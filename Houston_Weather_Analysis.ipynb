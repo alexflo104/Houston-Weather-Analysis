{
 "cells": [
  {
   "cell_type": "markdown",
   "id": "3cc74060",
   "metadata": {},
   "source": [
    "# Houston Weather Analysis Project\n",
    "\n",
    "Hello, my name is Alexis Flores and this is my analysis on Houston weather data in 2011 and 2021. I will be using python pandas to conduct this analysis to find key points between these two datasets. What intregued me to do this project was that I have lived in Houston my whole life and have helped my father in mowing lawns since I was young and want to see if there has been a difference in weather. Could it be global warming? or not.\n",
    "\n",
    "***"
   ]
  },
  {
   "cell_type": "markdown",
   "id": "241c4963",
   "metadata": {},
   "source": [
    "## Data\n",
    "\n",
    "I retrieved the data from kaggle where I found dataset about the weather in Houston over the span of 10 years. I choose 2011 and 2021 so that I can get that difference between a decade and see that change\n",
    "\n",
    "You can get view where I got the data [here](https://www.kaggle.com/datasets/alejandrochapa/houston-weather-data?select=htx_2006_weather.csv)\n",
    "\n",
    "Now We need to load the two datasets into python and we did that by doing the following below:"
   ]
  },
  {
   "cell_type": "code",
   "execution_count": 9,
   "id": "7b842328",
   "metadata": {},
   "outputs": [],
   "source": [
    "import pandas as pd\n",
    "\n",
    "htx2011 = pd.read_csv('data\\htx_2011_weather.csv')\n",
    "htx2021 = pd.read_csv('data\\htx_2021_weather.csv')\n",
    "\n"
   ]
  },
  {
   "cell_type": "markdown",
   "id": "5f5853fc",
   "metadata": {},
   "source": [
    "***\n",
    "\n",
    "## Analysis\n",
    "\n"
   ]
  }
 ],
 "metadata": {
  "kernelspec": {
   "display_name": "Python 3",
   "language": "python",
   "name": "python3"
  },
  "language_info": {
   "codemirror_mode": {
    "name": "ipython",
    "version": 3
   },
   "file_extension": ".py",
   "mimetype": "text/x-python",
   "name": "python",
   "nbconvert_exporter": "python",
   "pygments_lexer": "ipython3",
   "version": "3.11.9"
  }
 },
 "nbformat": 4,
 "nbformat_minor": 5
}
